{
 "cells": [
  {
   "cell_type": "markdown",
   "metadata": {},
   "source": [
    "# D4P "
   ]
  },
  {
   "cell_type": "markdown",
   "metadata": {},
   "source": [
    "## Subjective Data"
   ]
  },
  {
   "cell_type": "markdown",
   "metadata": {},
   "source": [
    "### Collect and store the data from the CSV files in a multi-dimensional list"
   ]
  },
  {
   "cell_type": "code",
   "execution_count": 1,
   "metadata": {},
   "outputs": [],
   "source": [
    "import csv\n",
    "\n",
    "subjective_tables = [\"BH_Subjective.csv\",\n",
    "                     \"DL_Subjective.csv\",\n",
    "                     \"EV_Subjective.csv\",\n",
    "                     \"JF_Subjective.csv\",\n",
    "                     \"LV_Subjective.csv\"]\n",
    "\n",
    "s_table = [[[], [], [], [], []],     # BH_Subjective_Table at all 5 time points\n",
    "           [[], [], [], [], []],     # DL_Subjective_Table at all 5 time points\n",
    "           [[], [], [], [], []],     # EV_Subjective_Table at all 5 time points\n",
    "           [[], [], [], [], []],     # JF_Subjective_Table at all 5 time points\n",
    "           [[], [], [], [], []]]     # LV_Subjective_Table at all 5 time points\n",
    "\n",
    "labels = []\n",
    "\n",
    "i = 0 \n",
    "for i in range (len(subjective_tables)):\n",
    "    with open (subjective_tables[i]) as csvfile:             # Open each CSV file\n",
    "        readCSV = csv.reader(csvfile, delimiter=\",\")        # Collect & store comma-separated values  \n",
    "        j = i  \n",
    "        for row in readCSV:\n",
    "            labels.append(row[0])\n",
    "            s_table[j][0].append(row[1])\n",
    "            s_table[j][1].append(row[2])\n",
    "            s_table[j][2].append(row[3])\n",
    "            s_table[j][3].append(row[4])\n",
    "            s_table[j][4].append(row[5])\n",
    "        i += 1\n",
    "labels = labels[:20]"
   ]
  },
  {
   "cell_type": "markdown",
   "metadata": {},
   "source": [
    "### Convert List of Strings (sequences of characters) to List of integers for statistical analysis"
   ]
  },
  {
   "cell_type": "code",
   "execution_count": 2,
   "metadata": {},
   "outputs": [
    {
     "name": "stdout",
     "output_type": "stream",
     "text": [
      "['I feel restless', 'I feel focused', 'I have difficulties sleeping', 'I feel calm', 'I feel depressed/sad', 'I feel stressed/anxious', 'I feel happy, excited, or cheerful', 'I feel like keeping to myself', 'I feel relaxed', 'I feel energized', 'I feel tired/fatigued', 'I feel motivated to complete tasks', 'I enjoy communicating with others', 'I have difficulties concentrating', 'I have difficulties staying awake', 'I feel discouraged']\n"
     ]
    }
   ],
   "source": [
    "f_table = [[[], [], [], [], []],     # BH Frequency of intervention at all 5 time points\n",
    "           [[], [], [], [], []],     # DL Frequency of intervention at all 5 time points\n",
    "           [[], [], [], [], []],     # EV Frequency of intervention at all 5 time points\n",
    "           [[], [], [], [], []],     # JF Frequency of intervention at all 5 time points\n",
    "           [[], [], [], [], []]]     # LV Frequency of intervention at all 5 time points\n",
    "\n",
    "i = 0\n",
    "j = 0\n",
    "for i in range(len(s_table)):\n",
    "    for j in range(len(s_table[i])):\n",
    "        s_table[i][j].pop(0)                                   # Remove the first (date) element from the list\n",
    "        f_table[i][j].append(s_table[i][j][0]); s_table[i][j].pop(0) # Cut \"How often did you use the dance system\"\n",
    "        f_table[i][j].append(s_table[i][j][0]); s_table[i][j].pop(0) # Cut \"How long was your average session\"\n",
    "        f_table[i][j].append(s_table[i][j][0]); s_table[i][j].pop(0) # Cut \"Did you use RAS?\"\n",
    "        s_table[i][j] = [int(x) for x in s_table[i][j]]        # Convert strings to ints\n",
    "        j += 1\n",
    "    i += 1\n",
    "\n",
    "labels = labels[4:] # remove date and first three questions\n",
    "print labels"
   ]
  },
  {
   "cell_type": "markdown",
   "metadata": {},
   "source": [
    "### Wilcoxon Signed-Rank Test\n",
    "\n",
    "#### Compare subjective scores within-group at 2 timepoints (either baseline or intervention). Do this for each score (restless, focused etc.) and record the significance of each. Use a non-parametric test (Wilcoxon Signed-Rank) because this is ordinal data (does not follow a normal distribution)."
   ]
  },
  {
   "cell_type": "code",
   "execution_count": 3,
   "metadata": {},
   "outputs": [],
   "source": [
    "from scipy.stats import wilcoxon\n",
    "\n",
    "# Computes the Wilcoxon Signed-Rank Test at two timepoints: Initial and Final\n",
    "def d4p_wilcoxon(timepoint_i, timepoint_f):\n",
    "    p_values = []     # List of the p-values for each score (e.g. Speech, Facial Expression, etc.)\n",
    "    questionNum = 0   # Number characterizing the score (e.g. restless = 0; focus = 1; etc.)\n",
    "    for questionNum in range(len(labels)):\n",
    "        list_i = []    # List of scores for each question at the initial timepoint\n",
    "        list_f = []    # List of scores for each question at the final timepoint\n",
    "        i = 0\n",
    "        for i in range(len(s_table)):\n",
    "            list_i.append(s_table[i][timepoint_i][questionNum])\n",
    "            list_f.append(s_table[i][timepoint_f][questionNum])\n",
    "        z_statistic, p_value = wilcoxon(list_i, list_f)\n",
    "        p_values.append(p_value)\n",
    "    return p_values"
   ]
  },
  {
   "cell_type": "markdown",
   "metadata": {},
   "source": [
    "## All Statistical Values Between All Timepoints"
   ]
  },
  {
   "cell_type": "code",
   "execution_count": 4,
   "metadata": {},
   "outputs": [
    {
     "name": "stdout",
     "output_type": "stream",
     "text": [
      "Timepoints 0 - 1: \n",
      "I feel restless --  p-Value:  1.0\n",
      "I feel focused --  p-Value:  0.31731050786291415\n",
      "I have difficulties sleeping --  p-Value:  0.15729920705028502\n",
      "I feel calm --  p-Value:  0.31731050786291415\n",
      "I feel depressed/sad --  p-Value:  nan\n",
      "I feel stressed/anxious --  p-Value:  nan\n",
      "I feel happy, excited, or cheerful --  p-Value:  nan\n",
      "I feel like keeping to myself --  p-Value:  nan\n",
      "I feel relaxed --  p-Value:  0.31731050786291415\n",
      "I feel energized --  p-Value:  0.31731050786291415\n",
      "I feel tired/fatigued --  p-Value:  0.31731050786291415\n",
      "I feel motivated to complete tasks --  p-Value:  0.15729920705028502\n",
      "I enjoy communicating with others --  p-Value:  nan\n",
      "I have difficulties concentrating --  p-Value:  0.31731050786291415\n",
      "I have difficulties staying awake --  p-Value:  0.5637028616507731\n",
      "I feel discouraged --  p-Value:  1.0\n",
      "\n",
      "\n",
      "Timepoints 0 - 2: \n",
      "I feel restless --  p-Value:  1.0\n",
      "I feel focused --  p-Value:  0.31731050786291415\n",
      "I have difficulties sleeping --  p-Value:  0.15729920705028502\n",
      "I feel calm --  p-Value:  0.31731050786291415\n",
      "I feel depressed/sad --  p-Value:  nan\n",
      "I feel stressed/anxious --  p-Value:  nan\n",
      "I feel happy, excited, or cheerful --  p-Value:  nan\n",
      "I feel like keeping to myself --  p-Value:  nan\n",
      "I feel relaxed --  p-Value:  0.31731050786291415\n",
      "I feel energized --  p-Value:  0.31731050786291415\n",
      "I feel tired/fatigued --  p-Value:  0.31731050786291415\n",
      "I feel motivated to complete tasks --  p-Value:  0.15729920705028502\n",
      "I enjoy communicating with others --  p-Value:  nan\n",
      "I have difficulties concentrating --  p-Value:  0.31731050786291415\n",
      "I have difficulties staying awake --  p-Value:  0.5637028616507731\n",
      "I feel discouraged --  p-Value:  1.0\n",
      "\n",
      "\n",
      "Timepoints 0 - 3: \n",
      "I feel restless --  p-Value:  1.0\n",
      "I feel focused --  p-Value:  0.31731050786291415\n",
      "I have difficulties sleeping --  p-Value:  0.15729920705028502\n",
      "I feel calm --  p-Value:  0.31731050786291415\n",
      "I feel depressed/sad --  p-Value:  nan\n",
      "I feel stressed/anxious --  p-Value:  nan\n",
      "I feel happy, excited, or cheerful --  p-Value:  nan\n",
      "I feel like keeping to myself --  p-Value:  nan\n",
      "I feel relaxed --  p-Value:  0.31731050786291415\n",
      "I feel energized --  p-Value:  0.31731050786291415\n",
      "I feel tired/fatigued --  p-Value:  0.31731050786291415\n",
      "I feel motivated to complete tasks --  p-Value:  0.15729920705028502\n",
      "I enjoy communicating with others --  p-Value:  nan\n",
      "I have difficulties concentrating --  p-Value:  0.31731050786291415\n",
      "I have difficulties staying awake --  p-Value:  0.5637028616507731\n",
      "I feel discouraged --  p-Value:  1.0\n",
      "\n",
      "\n",
      "Timepoints 0 - 4: \n",
      "I feel restless --  p-Value:  1.0\n",
      "I feel focused --  p-Value:  0.31731050786291415\n",
      "I have difficulties sleeping --  p-Value:  0.15729920705028502\n",
      "I feel calm --  p-Value:  0.31731050786291415\n",
      "I feel depressed/sad --  p-Value:  nan\n",
      "I feel stressed/anxious --  p-Value:  nan\n",
      "I feel happy, excited, or cheerful --  p-Value:  nan\n",
      "I feel like keeping to myself --  p-Value:  nan\n",
      "I feel relaxed --  p-Value:  0.31731050786291415\n",
      "I feel energized --  p-Value:  0.31731050786291415\n",
      "I feel tired/fatigued --  p-Value:  0.31731050786291415\n",
      "I feel motivated to complete tasks --  p-Value:  0.15729920705028502\n",
      "I enjoy communicating with others --  p-Value:  nan\n",
      "I have difficulties concentrating --  p-Value:  0.31731050786291415\n",
      "I have difficulties staying awake --  p-Value:  0.5637028616507731\n",
      "I feel discouraged --  p-Value:  1.0\n",
      "\n",
      "\n",
      "Timepoints 1 - 2: \n",
      "I feel restless --  p-Value:  1.0\n",
      "I feel focused --  p-Value:  0.31731050786291415\n",
      "I have difficulties sleeping --  p-Value:  0.15729920705028502\n",
      "I feel calm --  p-Value:  0.31731050786291415\n",
      "I feel depressed/sad --  p-Value:  nan\n",
      "I feel stressed/anxious --  p-Value:  nan\n",
      "I feel happy, excited, or cheerful --  p-Value:  nan\n",
      "I feel like keeping to myself --  p-Value:  nan\n",
      "I feel relaxed --  p-Value:  0.31731050786291415\n",
      "I feel energized --  p-Value:  0.31731050786291415\n",
      "I feel tired/fatigued --  p-Value:  0.31731050786291415\n",
      "I feel motivated to complete tasks --  p-Value:  0.15729920705028502\n",
      "I enjoy communicating with others --  p-Value:  nan\n",
      "I have difficulties concentrating --  p-Value:  0.31731050786291415\n",
      "I have difficulties staying awake --  p-Value:  0.5637028616507731\n",
      "I feel discouraged --  p-Value:  1.0\n",
      "\n",
      "\n",
      "Timepoints 1 - 3: \n",
      "I feel restless --  p-Value:  1.0\n",
      "I feel focused --  p-Value:  0.31731050786291415\n",
      "I have difficulties sleeping --  p-Value:  0.15729920705028502\n",
      "I feel calm --  p-Value:  0.31731050786291415\n",
      "I feel depressed/sad --  p-Value:  nan\n",
      "I feel stressed/anxious --  p-Value:  nan\n",
      "I feel happy, excited, or cheerful --  p-Value:  nan\n",
      "I feel like keeping to myself --  p-Value:  nan\n",
      "I feel relaxed --  p-Value:  0.31731050786291415\n",
      "I feel energized --  p-Value:  0.31731050786291415\n",
      "I feel tired/fatigued --  p-Value:  0.31731050786291415\n",
      "I feel motivated to complete tasks --  p-Value:  0.15729920705028502\n",
      "I enjoy communicating with others --  p-Value:  nan\n",
      "I have difficulties concentrating --  p-Value:  0.31731050786291415\n",
      "I have difficulties staying awake --  p-Value:  0.5637028616507731\n",
      "I feel discouraged --  p-Value:  1.0\n",
      "\n",
      "\n",
      "Timepoints 1 - 4: \n",
      "I feel restless --  p-Value:  1.0\n",
      "I feel focused --  p-Value:  0.31731050786291415\n",
      "I have difficulties sleeping --  p-Value:  0.15729920705028502\n",
      "I feel calm --  p-Value:  0.31731050786291415\n",
      "I feel depressed/sad --  p-Value:  nan\n",
      "I feel stressed/anxious --  p-Value:  nan\n",
      "I feel happy, excited, or cheerful --  p-Value:  nan\n",
      "I feel like keeping to myself --  p-Value:  nan\n",
      "I feel relaxed --  p-Value:  0.31731050786291415\n",
      "I feel energized --  p-Value:  0.31731050786291415\n",
      "I feel tired/fatigued --  p-Value:  0.31731050786291415\n",
      "I feel motivated to complete tasks --  p-Value:  0.15729920705028502\n",
      "I enjoy communicating with others --  p-Value:  nan\n",
      "I have difficulties concentrating --  p-Value:  0.31731050786291415\n",
      "I have difficulties staying awake --  p-Value:  0.5637028616507731\n",
      "I feel discouraged --  p-Value:  1.0\n",
      "\n",
      "\n",
      "Timepoints 2 - 3: \n",
      "I feel restless --  p-Value:  1.0\n",
      "I feel focused --  p-Value:  0.31731050786291415\n",
      "I have difficulties sleeping --  p-Value:  0.15729920705028502\n",
      "I feel calm --  p-Value:  0.31731050786291415\n",
      "I feel depressed/sad --  p-Value:  nan\n",
      "I feel stressed/anxious --  p-Value:  nan\n",
      "I feel happy, excited, or cheerful --  p-Value:  nan\n",
      "I feel like keeping to myself --  p-Value:  nan\n",
      "I feel relaxed --  p-Value:  0.31731050786291415\n",
      "I feel energized --  p-Value:  0.31731050786291415\n",
      "I feel tired/fatigued --  p-Value:  0.31731050786291415\n",
      "I feel motivated to complete tasks --  p-Value:  0.15729920705028502\n",
      "I enjoy communicating with others --  p-Value:  nan\n",
      "I have difficulties concentrating --  p-Value:  0.31731050786291415\n",
      "I have difficulties staying awake --  p-Value:  0.5637028616507731\n",
      "I feel discouraged --  p-Value:  1.0\n",
      "\n",
      "\n",
      "Timepoints 2 - 4: \n",
      "I feel restless --  p-Value:  1.0\n",
      "I feel focused --  p-Value:  0.31731050786291415\n",
      "I have difficulties sleeping --  p-Value:  0.15729920705028502\n",
      "I feel calm --  p-Value:  0.31731050786291415\n",
      "I feel depressed/sad --  p-Value:  nan\n",
      "I feel stressed/anxious --  p-Value:  nan\n",
      "I feel happy, excited, or cheerful --  p-Value:  nan\n",
      "I feel like keeping to myself --  p-Value:  nan\n",
      "I feel relaxed --  p-Value:  0.31731050786291415\n",
      "I feel energized --  p-Value:  0.31731050786291415\n",
      "I feel tired/fatigued --  p-Value:  0.31731050786291415\n",
      "I feel motivated to complete tasks --  p-Value:  0.15729920705028502\n",
      "I enjoy communicating with others --  p-Value:  nan\n",
      "I have difficulties concentrating --  p-Value:  0.31731050786291415\n",
      "I have difficulties staying awake --  p-Value:  0.5637028616507731\n",
      "I feel discouraged --  p-Value:  1.0\n",
      "\n",
      "\n",
      "Timepoints 3 - 4: \n",
      "I feel restless --  p-Value:  1.0\n",
      "I feel focused --  p-Value:  0.31731050786291415\n",
      "I have difficulties sleeping --  p-Value:  0.15729920705028502\n",
      "I feel calm --  p-Value:  0.31731050786291415\n",
      "I feel depressed/sad --  p-Value:  nan\n",
      "I feel stressed/anxious --  p-Value:  nan\n",
      "I feel happy, excited, or cheerful --  p-Value:  nan\n",
      "I feel like keeping to myself --  p-Value:  nan\n",
      "I feel relaxed --  p-Value:  0.31731050786291415\n",
      "I feel energized --  p-Value:  0.31731050786291415\n",
      "I feel tired/fatigued --  p-Value:  0.31731050786291415\n",
      "I feel motivated to complete tasks --  p-Value:  0.15729920705028502\n",
      "I enjoy communicating with others --  p-Value:  nan\n",
      "I have difficulties concentrating --  p-Value:  0.31731050786291415\n",
      "I have difficulties staying awake --  p-Value:  0.5637028616507731\n",
      "I feel discouraged --  p-Value:  1.0\n",
      "\n",
      "\n"
     ]
    },
    {
     "name": "stderr",
     "output_type": "stream",
     "text": [
      "/home/mbalas/.local/lib/python2.7/site-packages/scipy/stats/morestats.py:2385: UserWarning: Warning: sample size too small for normal approximation.\n",
      "  warnings.warn(\"Warning: sample size too small for normal approximation.\")\n",
      "/home/mbalas/.local/lib/python2.7/site-packages/scipy/stats/morestats.py:2410: RuntimeWarning: invalid value encountered in double_scalars\n",
      "  z = (T - mn - correction) / se\n"
     ]
    }
   ],
   "source": [
    "def printSig(timepoint_i, timepoint_f):\n",
    "    p_values = d4p_wilcoxon(timepoint_i, timepoint_f)\n",
    "    for i in range(len(labels)):\n",
    "        print labels[i], \"--  p-Value: \", p_values[i]\n",
    "\n",
    "print('Timepoints 0 - 1: ')\n",
    "printSig(0,1); print('\\n')\n",
    "print('Timepoints 0 - 2: ')\n",
    "printSig(0,1); print('\\n')\n",
    "print('Timepoints 0 - 3: ')\n",
    "printSig(0,1); print('\\n')\n",
    "print('Timepoints 0 - 4: ')\n",
    "printSig(0,1); print('\\n')\n",
    "print('Timepoints 1 - 2: ')\n",
    "printSig(0,1); print('\\n')\n",
    "print('Timepoints 1 - 3: ')\n",
    "printSig(0,1); print('\\n')\n",
    "print('Timepoints 1 - 4: ')\n",
    "printSig(0,1); print('\\n')\n",
    "print('Timepoints 2 - 3: ')\n",
    "printSig(0,1); print('\\n')\n",
    "print('Timepoints 2 - 4: ')\n",
    "printSig(0,1); print('\\n')\n",
    "print('Timepoints 3 - 4: ')\n",
    "printSig(0,1); print('\\n')"
   ]
  },
  {
   "cell_type": "markdown",
   "metadata": {},
   "source": [
    "## All Statistically Significant (0.10 level) Values Between All Timepoints"
   ]
  },
  {
   "cell_type": "code",
   "execution_count": 5,
   "metadata": {},
   "outputs": [
    {
     "name": "stdout",
     "output_type": "stream",
     "text": [
      "Timepoints  0 - 3 :\n",
      "I have difficulties sleeping -- p-Value:  0.0832645166635504\n",
      "Timepoints  0 - 4 :\n",
      "I have difficulties sleeping -- p-Value:  0.0832645166635504\n",
      "Timepoints  0 - 4 :\n",
      "I feel energized -- p-Value:  0.0832645166635504\n",
      "Timepoints  1 - 4 :\n",
      "I feel motivated to complete tasks -- p-Value:  0.0832645166635504\n"
     ]
    },
    {
     "data": {
      "text/plain": [
       "True"
      ]
     },
     "execution_count": 5,
     "metadata": {},
     "output_type": "execute_result"
    }
   ],
   "source": [
    "def any_sig(siglevel):\n",
    "    boole = False\n",
    "    for ti in range(4):\n",
    "        for tf in range(ti+1, 5):\n",
    "                p_values = d4p_wilcoxon(ti, tf)\n",
    "                for val in range(len(p_values)):\n",
    "                    if p_values[val] <= siglevel:\n",
    "                        print 'Timepoints ',ti,'-',tf,':\\n',labels[val],'-- p-Value: ',p_values[val]\n",
    "                        boole = True\n",
    "    if boole == False:\n",
    "        print 'There are no statistically significant values under the level of: ',siglevel\n",
    "    return boole\n",
    "\n",
    "any_sig(0.10)"
   ]
  },
  {
   "cell_type": "markdown",
   "metadata": {},
   "source": [
    "### The Significance Found at the 0.10 Level includes difficulties sleeping, energy and motivation (all at timepoints 0-3/4 and 1-4)"
   ]
  },
  {
   "cell_type": "markdown",
   "metadata": {},
   "source": [
    "### Plot of the Graph for the Energy Scores for Each Subject at Each Timepoint"
   ]
  },
  {
   "cell_type": "code",
   "execution_count": 6,
   "metadata": {},
   "outputs": [
    {
     "data": {
      "image/png": "[encoded data removed]",
      "text/plain": [
       "<Figure size 576x576 with 1 Axes>"
      ]
     },
     "metadata": {},
     "output_type": "display_data"
    }
   ],
   "source": [
    "import matplotlib.pyplot as plt\n",
    "from collections import OrderedDict\n",
    "\n",
    "\n",
    "t = [0, 1, 2, 3, 4]\n",
    "line = ['bs-', 'rs-', 'ys-', 'gs-', 'ms-']\n",
    "subject = [\"BH\", \"DL\", \"EV\", \"JF\", \"LV\"]\n",
    "\n",
    "plt.figure(figsize=(8,8))\n",
    "\n",
    "\n",
    "for i in range(len(s_table)):\n",
    "    temp = []; temp2 = []\n",
    "    for j in range(5):\n",
    "        temp.append(s_table[i][j][9]) #energy\n",
    "    plt.plot(t, temp, line[i], label=subject[i])\n",
    "    \n",
    "handles, labels = plt.gca().get_legend_handles_labels()\n",
    "by_label = OrderedDict(zip(labels, handles))\n",
    "plt.legend(by_label.values(), by_label.keys(), loc='center left', bbox_to_anchor=(1, 0.5), title=\"Subject\")\n",
    "\n",
    "plt.axis([-0.25, 4.25, 0, 6])\n",
    "plt.xticks(t)\n",
    "\n",
    "plt.xlabel('Timepoints')\n",
    "plt.ylabel('Feeling Energized')\n",
    "plt.title('Effects of Dance on Energy Scores')\n",
    "\n",
    "for x in t:\n",
    "    plt.axvline(x, linewidth=1, color='black', ls='--', alpha = 0.5)\n",
    "\n",
    "plt.show()"
   ]
  },
  {
   "cell_type": "code",
   "execution_count": 7,
   "metadata": {},
   "outputs": [
    {
     "data": {
      "image/png": "[encoded data removed]",
      "text/plain": [
       "<Figure size 576x576 with 1 Axes>"
      ]
     },
     "metadata": {},
     "output_type": "display_data"
    }
   ],
   "source": [
    "import matplotlib.pyplot as plt\n",
    "from collections import OrderedDict\n",
    "\n",
    "\n",
    "t = [0, 1, 2, 3, 4]\n",
    "line = ['bs-', 'rs-', 'ys-', 'gs-', 'ms-']\n",
    "subject = [\"BH\", \"DL\", \"EV\", \"JF\", \"LV\"]\n",
    "\n",
    "plt.figure(figsize=(8,8))\n",
    "\n",
    "\n",
    "for i in range(len(s_table)):\n",
    "    temp = []; temp2 = []\n",
    "    for j in range(5):\n",
    "        temp.append(s_table[i][j][11]) #motivation\n",
    "    plt.plot(t, temp, line[i], label=subject[i])\n",
    "    \n",
    "handles, labels = plt.gca().get_legend_handles_labels()\n",
    "by_label = OrderedDict(zip(labels, handles))\n",
    "plt.legend(by_label.values(), by_label.keys(), loc='center left', bbox_to_anchor=(1, 0.5), title=\"Subject\")\n",
    "\n",
    "plt.axis([-0.25, 4.25, 0, 6])\n",
    "plt.xticks(t)\n",
    "\n",
    "plt.xlabel('Timepoints')\n",
    "plt.ylabel('Feeling Motivated')\n",
    "plt.title('Effects of Dance on Motivation Scores')\n",
    "\n",
    "for x in t:\n",
    "    plt.axvline(x, linewidth=1, color='black', ls='--', alpha = 0.5)\n",
    "\n",
    "plt.show()"
   ]
  },
  {
   "cell_type": "code",
   "execution_count": null,
   "metadata": {
    "collapsed": true
   },
   "outputs": [],
   "source": []
  }
 ],
 "metadata": {
  "kernelspec": {
   "display_name": "Python 3",
   "language": "python",
   "name": "python3"
  },
  "language_info": {
   "codemirror_mode": {
    "name": "ipython",
    "version": 2
   },
   "file_extension": ".py",
   "mimetype": "text/x-python",
   "name": "python",
   "nbconvert_exporter": "python",
   "pygments_lexer": "ipython2",
   "version": "2.7.14"
  }
 },
 "nbformat": 4,
 "nbformat_minor": 2
}
