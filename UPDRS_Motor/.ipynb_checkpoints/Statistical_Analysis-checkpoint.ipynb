{
 "cells": [
  {
   "cell_type": "markdown",
   "metadata": {},
   "source": [
    "# D4P "
   ]
  },
  {
   "cell_type": "markdown",
   "metadata": {},
   "source": [
    "## UPDRS Motor Scores"
   ]
  },
  {
   "cell_type": "markdown",
   "metadata": {},
   "source": [
    "### Collect and store the data from the CSV files in a multi-dimensional list"
   ]
  },
  {
   "cell_type": "code",
   "execution_count": 1,
   "metadata": {
    "collapsed": true,
    "scrolled": true
   },
   "outputs": [],
   "source": [
    "import csv\n",
    "\n",
    "disease_tables = [\"BH_Disease_Table.csv\",\n",
    "                  \"DL_Disease_Table.csv\",\n",
    "                  \"EV_Disease_Table.csv\",\n",
    "                  \"JF_Disease_Table.csv\",\n",
    "                  \"LV_Disease_Table.csv\"]\n",
    "\n",
    "dtablelists = [[[], [], []],     # BH_Disease_Table at all 3 time points\n",
    "               [[], []],         # DL_Disease_Table with only 2 time points\n",
    "               [[], [], []],     # EV_Disease_Table at all 3 time points\n",
    "               [[], [], []],     # JF_Disease_Table at all 3 time points\n",
    "               [[], [], []]]     # LV_Disease_Table at all 3 time points\n",
    "\n",
    "labels = []\n",
    "\n",
    "i = 0 \n",
    "for i in range (len(disease_tables)):\n",
    "    with open (disease_tables[i]) as csvfile:             # Open each CSV file\n",
    "        readCSV = csv.reader(csvfile, delimiter=\",\")      # Collect & store comma-separated values  \n",
    "        j = i                                               \n",
    "        for row in readCSV:\n",
    "            if j == 1:                                    # Subject DL only has two timepoints\n",
    "                dtablelists[j][0].append(row[1])\n",
    "                dtablelists[j][1].append(row[2])\n",
    "                labels.append(row[0])                     # Capture the names of each test\n",
    "            else:                                         # All other subjects have all three timepoints\n",
    "                dtablelists[j][0].append(row[1])\n",
    "                dtablelists[j][1].append(row[2])\n",
    "                dtablelists[j][2].append(row[3])\n",
    "        i += 1"
   ]
  },
  {
   "cell_type": "markdown",
   "metadata": {},
   "source": [
    "### Convert List of Strings (sequences of characters) to List of integers for statistical analysis"
   ]
  },
  {
   "cell_type": "code",
   "execution_count": 2,
   "metadata": {
    "collapsed": true
   },
   "outputs": [],
   "source": [
    "i = 0\n",
    "j = 0\n",
    "for i in range(len(dtablelists)):\n",
    "    for j in range(len(dtablelists[i])):\n",
    "        dtablelists[i][j].pop(0)                                   # Remove the first (date) element from the list\n",
    "        dtablelists[i][j] = [int(x) for x in dtablelists[i][j]]    # Convert strings to ints\n",
    "        j += 1\n",
    "    i += 1\n",
    "\n",
    "labels = labels[1:] # remove date (first row of column one) label"
   ]
  },
  {
   "cell_type": "markdown",
   "metadata": {},
   "source": [
    "### Wilcoxon Signed-Rank Test\n",
    "\n",
    "#### Compare UPDRS scores within-group at 2 timepoints (either baseline or intervention). Do this for each score (e.g. Speech, Facial Expression etc.) and record the significance of each. Use a non-parametric test (Wilcoxon Signed-Rank) because this is ordinal data (does not follow a normal distribution)."
   ]
  },
  {
   "cell_type": "code",
   "execution_count": 3,
   "metadata": {
    "collapsed": true
   },
   "outputs": [],
   "source": [
    "from scipy.stats import wilcoxon\n",
    "\n",
    "# Computes the Wilcoxon Signed-Rank Test at two timepoints: Initial and Final\n",
    "def d4p_wilcoxon(timepoint_i, timepoint_f):\n",
    "    p_values = []     # List of the p-values for each score (e.g. Speech, Facial Expression, etc.)\n",
    "    questionNum = 0   # Number characterizing the score (e.g. Speech = 0; Facial Expression = 1; etc.)\n",
    "    for questionNum in range(len(labels)-1):  # Do not include get up & go (continuous, not ordinal)\n",
    "        list_i = []    # List of scores for each question at the initial timepoint (i.e. 0 or 1)\n",
    "        list_f = []    # List of scores for each question at the final timepoint (i.e. 1 or 2)\n",
    "        i = 0\n",
    "        for i in range(len(dtablelists)):\n",
    "            if (len(dtablelists[i]) < 3):                        # Subject DL only has 2 timepoints. \n",
    "                list_i.append(dtablelists[i][0][questionNum])    # Regardless of whether we compare timepoint 0-1 \n",
    "                list_f.append(dtablelists[i][1][questionNum])    # or 1-2, always use the same 2 timepoints for DL\n",
    "            else:\n",
    "                list_i.append(dtablelists[i][timepoint_i][questionNum])\n",
    "                list_f.append(dtablelists[i][timepoint_f][questionNum])\n",
    "        z_statistic, p_value = wilcoxon(list_i, list_f)\n",
    "        p_values.append(p_value)\n",
    "    return p_values\n"
   ]
  },
  {
   "cell_type": "markdown",
   "metadata": {},
   "source": [
    "## Paired T-test\n",
    "\n",
    "#### Comparing get up & go time using a parametric test"
   ]
  },
  {
   "cell_type": "code",
   "execution_count": 4,
   "metadata": {},
   "outputs": [],
   "source": [
    "from scipy.stats import ttest_rel\n",
    "\n",
    "# Computes the Paired T-Test at two timepoints: Initial and Final\n",
    "def d4p_pairedttest(timepoint_i, timepoint_f):\n",
    "    list_i = []     # List of the Get-Up-And-Go Scores at the initial timepoint (i.e. 0 or 1)\n",
    "    list_f = []     # List of the Get-Up-And-Go Scores at the final timepoint (i.e. 1 or 2)\n",
    "    i = 0\n",
    "    for i in range(len(dtablelists)):\n",
    "        if (len(dtablelists[i]) < 3):                  # Subject DL only has 2 timepoints\n",
    "            list_i.append(dtablelists[i][0][-1])       # Regardless of whether we compare timepoint 0-1\n",
    "            list_f.append(dtablelists[i][1][-1])       # or 1-2, always use same 2 timepoints for DL\n",
    "        else:\n",
    "            list_i.append(dtablelists[i][timepoint_i][-1]) # [-1] => Take the last scored item (Get-Up-And-Go)\n",
    "            list_f.append(dtablelists[i][timepoint_f][-1])\n",
    "    t_statistic, p_value = ttest_rel(list_i, list_f)\n",
    "    return [p_value]\n"
   ]
  },
  {
   "cell_type": "markdown",
   "metadata": {},
   "source": [
    "### Checking for significance"
   ]
  },
  {
   "cell_type": "code",
   "execution_count": 5,
   "metadata": {},
   "outputs": [
    {
     "name": "stdout",
     "output_type": "stream",
     "text": [
      "UPDRS Baseline: \n",
      "Null hypothesis accepted at the 0.1 significance level\n",
      "\n",
      "\n",
      "UPDRS Intervention: \n",
      "Null hypothesis accepted at the 0.1 significance level\n",
      "\n",
      "\n",
      "Get Up & Go - Baseline: \n",
      "Null hypothesis accepted at the 0.1 significance level\n",
      "\n",
      "\n",
      "Get Up & Go - Intervention: \n",
      "Null hypothesis rejected at the 0.1 significance level\n",
      "Get Up & Go (seconds) => 0.0993006832137 (p-value)\n",
      "\n",
      "\n"
     ]
    },
    {
     "name": "stderr",
     "output_type": "stream",
     "text": [
      "/home/mbalas/.local/lib/python2.7/site-packages/scipy/stats/morestats.py:2397: UserWarning: Warning: sample size too small for normal approximation.\n",
      "  warnings.warn(\"Warning: sample size too small for normal approximation.\")\n",
      "/home/mbalas/.local/lib/python2.7/site-packages/scipy/stats/morestats.py:2422: RuntimeWarning: invalid value encountered in double_scalars\n",
      "  z = (T - mn - correction) / se\n"
     ]
    }
   ],
   "source": [
    "def anySignificance(siglevel, function, *timepoint_1, **timepoint_2):\n",
    "    p_values = function(*timepoint_1, **timepoint_2)\n",
    "    i = 0; boole = False; sigstr = {}\n",
    "    if len(p_values) == 1:\n",
    "        if p_values[0] < siglevel:\n",
    "            sigstr[labels[-1]] = p_values[0]\n",
    "            boole = True\n",
    "        else:\n",
    "            for i in range(len(p_values)):\n",
    "                if p_values[i] < siglevel:\n",
    "                    sigstr[labels[i]] = p_values[i]\n",
    "                    boole = True\n",
    "    if boole:\n",
    "        print(\"Null hypothesis rejected at the \" + str(siglevel) + \" significance level\")\n",
    "        for k, v in sigstr.items(): print k, \"=>\", v, \"(p-value)\"\n",
    "        return True\n",
    "    print(\"Null hypothesis accepted at the \" + str(siglevel) + \" significance level\")\n",
    "    return False\n",
    "\n",
    "\n",
    "\n",
    "### Checking to see if there are any significant changes for any of the scores b/w 2 timepoints ###\n",
    "print (\"UPDRS Baseline: \"); anySignificance(0.10, d4p_wilcoxon, 0, 1); print(\"\\n\")\n",
    "print (\"UPDRS Intervention: \"); anySignificance(0.10, d4p_wilcoxon, 1, 2); print(\"\\n\")\n",
    "\n",
    "### Checking to see if there is any significant change for the Get-Up-And-Go time b/w 2 timepoints ###\n",
    "print (\"Get Up & Go - Baseline: \"); anySignificance(0.10, d4p_pairedttest, 0, 1); print(\"\\n\")\n",
    "print (\"Get Up & Go - Intervention: \"); anySignificance(0.10, d4p_pairedttest, 1, 2); print(\"\\n\")\n",
    "\n"
   ]
  },
  {
   "cell_type": "markdown",
   "metadata": {},
   "source": [
    "### The Only Significance Found at the 0.10 Level was the Get Up & Go Score (in seconds) => P-Value: 0.0993\n",
    "#### However, this result itself is likely insignificant (even at the .10 level) since using parametric testing with such a low sample size likely led to spurious results. "
   ]
  },
  {
   "cell_type": "markdown",
   "metadata": {},
   "source": [
    "### Plot of the Graph for the Get Up and Go Scores for Each Subject at Each Timepoint"
   ]
  },
  {
   "cell_type": "code",
   "execution_count": 6,
   "metadata": {
    "scrolled": false
   },
   "outputs": [
    {
     "data": {
      "image/png": "[encoded data removed]",
      "text/plain": [
       "<matplotlib.figure.Figure at 0x7fbf47b1fa90>"
      ]
     },
     "metadata": {},
     "output_type": "display_data"
    }
   ],
   "source": [
    "import matplotlib.pyplot as plt\n",
    "from collections import OrderedDict\n",
    "\n",
    "\n",
    "t = [0, 1, 2]\n",
    "line = ['bs-', 'rs-', 'ys-', 'gs-', 'ms-']\n",
    "subject = [\"BH\", \"DL\", \"EV\", \"JF\", \"LV\"]\n",
    "\n",
    "plt.figure(figsize=(8,8))\n",
    "\n",
    "\n",
    "for i in range(len(dtablelists)):\n",
    "    if (len(dtablelists[i]) < 3):\n",
    "        temp = []\n",
    "        temp.append(dtablelists[i][0][-1])\n",
    "        temp.append(dtablelists[i][0][-1])\n",
    "        temp.append(dtablelists[i][1][-1])\n",
    "        plt.plot(t, [4,4,4], line[i], label=subject[i])\n",
    "    else:\n",
    "        temp = []\n",
    "        for j in range(3):\n",
    "            temp.append(dtablelists[i][j][-1])\n",
    "    plt.plot(t, temp, line[i], label=subject[i])\n",
    "    \n",
    "handles, labels = plt.gca().get_legend_handles_labels()\n",
    "by_label = OrderedDict(zip(labels, handles))\n",
    "plt.legend(by_label.values(), by_label.keys(), loc='center left', bbox_to_anchor=(1, 0.5), title=\"Subject\")\n",
    "\n",
    "plt.axis([-0.25, 2.25, 0, 15])\n",
    "plt.xticks(t)\n",
    "\n",
    "plt.xlabel('Timepoints')\n",
    "plt.ylabel('Get Up And Go (seconds)')\n",
    "plt.title('Effects of Dance on the Get Up and Go Scores')\n",
    "\n",
    "for x in t:\n",
    "    plt.axvline(x, linewidth=1, color='black', ls='--', alpha = 0.5)\n",
    "\n",
    "plt.show()"
   ]
  },
  {
   "cell_type": "code",
   "execution_count": null,
   "metadata": {
    "collapsed": true
   },
   "outputs": [],
   "source": []
  }
 ],
 "metadata": {
  "kernelspec": {
   "display_name": "Python 3",
   "language": "python",
   "name": "python3"
  },
  "language_info": {
   "codemirror_mode": {
    "name": "ipython",
    "version": 2
   },
   "file_extension": ".py",
   "mimetype": "text/x-python",
   "name": "python",
   "nbconvert_exporter": "python",
   "pygments_lexer": "ipython2",
   "version": "2.7.14"
  }
 },
 "nbformat": 4,
 "nbformat_minor": 2
}
